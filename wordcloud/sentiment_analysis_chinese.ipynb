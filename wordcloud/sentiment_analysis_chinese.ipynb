{
 "cells": [
  {
   "cell_type": "code",
   "execution_count": 1,
   "metadata": {},
   "outputs": [],
   "source": [
    "text = u\"我今天很快乐。我今天很愤怒。\""
   ]
  },
  {
   "cell_type": "code",
   "execution_count": 2,
   "metadata": {},
   "outputs": [],
   "source": [
    "from snownlp import SnowNLP\n",
    "s = SnowNLP(text)"
   ]
  },
  {
   "cell_type": "code",
   "execution_count": 3,
   "metadata": {},
   "outputs": [
    {
     "name": "stdout",
     "output_type": "stream",
     "text": [
      "我今天很快乐\n",
      "我今天很愤怒\n"
     ]
    }
   ],
   "source": [
    "for sentence in s.sentences:\n",
    " print(sentence)"
   ]
  },
  {
   "cell_type": "code",
   "execution_count": 4,
   "metadata": {},
   "outputs": [
    {
     "data": {
      "text/plain": [
       "0.971889316039116"
      ]
     },
     "execution_count": 4,
     "metadata": {},
     "output_type": "execute_result"
    }
   ],
   "source": [
    "s1 = SnowNLP(s.sentences[0])\n",
    "s1.sentiments"
   ]
  },
  {
   "cell_type": "code",
   "execution_count": 5,
   "metadata": {},
   "outputs": [
    {
     "name": "stdout",
     "output_type": "stream",
     "text": [
      "我今天很快乐\n",
      "我今天很愤怒\n"
     ]
    }
   ],
   "source": [
    "text = u\"我今天很快乐，我今天很愤怒。\"\n",
    "from snownlp import SnowNLP\n",
    "s = SnowNLP(text)\n",
    "for sentence in s.sentences:\n",
    " print(sentence)"
   ]
  },
  {
   "cell_type": "code",
   "execution_count": 6,
   "metadata": {},
   "outputs": [
    {
     "name": "stdout",
     "output_type": "stream",
     "text": [
      "社保卡怎么办理\n",
      "需要什么材料\n",
      "收费吗\n"
     ]
    }
   ],
   "source": [
    "text = u\"社保卡怎么办理，需要什么材料，收费吗\"\n",
    "from snownlp import SnowNLP\n",
    "s = SnowNLP(text)\n",
    "for sentence in s.sentences:\n",
    " print(sentence)"
   ]
  },
  {
   "cell_type": "code",
   "execution_count": 7,
   "metadata": {},
   "outputs": [
    {
     "name": "stdout",
     "output_type": "stream",
     "text": [
      "社保 j\n",
      "卡 n\n",
      "怎么 r\n",
      "办理 v\n",
      "， w\n",
      "需要 v\n",
      "什么 r\n",
      "材料 n\n",
      "， w\n",
      "收费 v\n",
      "吗 y\n"
     ]
    }
   ],
   "source": [
    "from snownlp import SnowNLP\n",
    "model = SnowNLP(u'社保卡怎么办理，需要什么材料，收费吗')\n",
    "for word, pos in model.tags:\n",
    "    print(word, pos)"
   ]
  },
  {
   "cell_type": "code",
   "execution_count": 8,
   "metadata": {},
   "outputs": [
    {
     "name": "stdout",
     "output_type": "stream",
     "text": [
      "你 r\n",
      "说 v\n",
      "社保 j\n",
      "卡 n\n",
      "怎么 r\n",
      "办理 v\n",
      "， w\n",
      "需要 v\n",
      "什么 r\n",
      "材料 n\n",
      "， w\n",
      "收费 v\n",
      "吗 y\n"
     ]
    }
   ],
   "source": [
    "from snownlp import SnowNLP\n",
    "model = SnowNLP(u'你说社保卡怎么办理，需要什么材料，收费吗')\n",
    "for word, pos in model.tags:\n",
    "    print(word, pos)"
   ]
  },
  {
   "cell_type": "code",
   "execution_count": 9,
   "metadata": {},
   "outputs": [
    {
     "name": "stdout",
     "output_type": "stream",
     "text": [
      "你说社保卡怎么办理\n",
      "需要什么材料\n",
      "收费吗\n"
     ]
    }
   ],
   "source": [
    "text = u\"你说社保卡怎么办理，需要什么材料，收费吗\"\n",
    "from snownlp import SnowNLP\n",
    "s = SnowNLP(text)\n",
    "for sentence in s.sentences:\n",
    " print(sentence)"
   ]
  },
  {
   "cell_type": "code",
   "execution_count": 10,
   "metadata": {},
   "outputs": [
    {
     "name": "stdout",
     "output_type": "stream",
     "text": [
      "社保卡怎么办理需要什么材料收费吗\n"
     ]
    }
   ],
   "source": [
    "text = u\"社保卡怎么办理需要什么材料收费吗\"\n",
    "from snownlp import SnowNLP\n",
    "s = SnowNLP(text)\n",
    "for sentence in s.sentences:\n",
    " print(sentence)"
   ]
  },
  {
   "cell_type": "code",
   "execution_count": 11,
   "metadata": {},
   "outputs": [
    {
     "name": "stdout",
     "output_type": "stream",
     "text": [
      "社保卡怎么办理\n",
      "需要什么材料\n",
      "收费标准是什么\n"
     ]
    }
   ],
   "source": [
    "text = u\"社保卡怎么办理，需要什么材料，收费标准是什么\"\n",
    "from snownlp import SnowNLP\n",
    "s = SnowNLP(text)\n",
    "for sentence in s.sentences:\n",
    " print(sentence)"
   ]
  },
  {
   "cell_type": "code",
   "execution_count": 12,
   "metadata": {},
   "outputs": [
    {
     "name": "stdout",
     "output_type": "stream",
     "text": [
      "社保卡怎么办理\n",
      "需要什么材料、证明吗\n",
      "收费标准是什么\n"
     ]
    }
   ],
   "source": [
    "text = u\"社保卡怎么办理，需要什么材料、证明吗，收费标准是什么\"\n",
    "from snownlp import SnowNLP\n",
    "s = SnowNLP(text)\n",
    "for sentence in s.sentences:\n",
    " print(sentence)"
   ]
  },
  {
   "cell_type": "code",
   "execution_count": 13,
   "metadata": {},
   "outputs": [
    {
     "name": "stdout",
     "output_type": "stream",
     "text": [
      "社保卡怎么办理\n",
      "需要什么材料、证明\n",
      "收费标准是什么\n"
     ]
    }
   ],
   "source": [
    "text = u\"社保卡怎么办理，需要什么材料、证明，收费标准是什么\"\n",
    "from snownlp import SnowNLP\n",
    "s = SnowNLP(text)\n",
    "for sentence in s.sentences:\n",
    " print(sentence)"
   ]
  },
  {
   "cell_type": "code",
   "execution_count": 14,
   "metadata": {},
   "outputs": [
    {
     "name": "stdout",
     "output_type": "stream",
     "text": [
      "社保卡怎么办理\n",
      "需要什么材料、证明\n",
      "收费标准是什么\n"
     ]
    }
   ],
   "source": [
    "text = u\"社保卡怎么办理，需要什么材料、证明？收费标准是什么\"\n",
    "from snownlp import SnowNLP\n",
    "s = SnowNLP(text)\n",
    "for sentence in s.sentences:\n",
    " print(sentence)"
   ]
  },
  {
   "cell_type": "code",
   "execution_count": 1,
   "metadata": {},
   "outputs": [
    {
     "name": "stdout",
     "output_type": "stream",
     "text": [
      "哦, 社保卡怎么办理\n",
      "需要什么材料、证明\n",
      "收费标准是什么\n"
     ]
    }
   ],
   "source": [
    "text = u\"哦, 社保卡怎么办理，需要什么材料、证明？收费标准是什么\"\n",
    "from snownlp import SnowNLP\n",
    "s = SnowNLP(text)\n",
    "for sentence in s.sentences:\n",
    " print(sentence)"
   ]
  },
  {
   "cell_type": "code",
   "execution_count": 2,
   "metadata": {},
   "outputs": [
    {
     "name": "stdout",
     "output_type": "stream",
     "text": [
      "哦,最近听说出了新的社保卡\n",
      "怎么办理\n",
      "需要什么材料、证明\n",
      "收费标准是什么\n"
     ]
    }
   ],
   "source": [
    "text = u\"哦,最近听说出了新的社保卡，怎么办理，需要什么材料、证明？收费标准是什么\"\n",
    "from snownlp import SnowNLP\n",
    "s = SnowNLP(text)\n",
    "for sentence in s.sentences:\n",
    " print(sentence)"
   ]
  },
  {
   "cell_type": "code",
   "execution_count": 3,
   "metadata": {},
   "outputs": [
    {
     "name": "stdout",
     "output_type": "stream",
     "text": [
      "哦\n",
      "你好,最近听说出了新的社保卡\n",
      "怎么办理\n",
      "需要什么材料、证明\n",
      "收费标准是什么\n"
     ]
    }
   ],
   "source": [
    "text = u\"哦，你好,最近听说出了新的社保卡，怎么办理，需要什么材料、证明？收费标准是什么\"\n",
    "from snownlp import SnowNLP\n",
    "s = SnowNLP(text)\n",
    "for sentence in s.sentences:\n",
    " print(sentence)"
   ]
  },
  {
   "cell_type": "code",
   "execution_count": 4,
   "metadata": {},
   "outputs": [
    {
     "name": "stdout",
     "output_type": "stream",
     "text": [
      "你好\n",
      "是这样,最近听说出了新的社保卡\n",
      "怎么办理\n",
      "需要什么材料、证明\n",
      "收费标准是什么\n"
     ]
    }
   ],
   "source": [
    "text = u\"你好，是这样,最近听说出了新的社保卡，怎么办理，需要什么材料、证明？收费标准是什么\"\n",
    "from snownlp import SnowNLP\n",
    "s = SnowNLP(text)\n",
    "for sentence in s.sentences:\n",
    " print(sentence)"
   ]
  },
  {
   "cell_type": "code",
   "execution_count": null,
   "metadata": {},
   "outputs": [],
   "source": []
  }
 ],
 "metadata": {
  "kernelspec": {
   "display_name": "Python 3",
   "language": "python",
   "name": "python3"
  },
  "language_info": {
   "codemirror_mode": {
    "name": "ipython",
    "version": 3
   },
   "file_extension": ".py",
   "mimetype": "text/x-python",
   "name": "python",
   "nbconvert_exporter": "python",
   "pygments_lexer": "ipython3",
   "version": "3.7.4"
  }
 },
 "nbformat": 4,
 "nbformat_minor": 2
}
